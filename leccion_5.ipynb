{
 "cells": [
  {
   "cell_type": "code",
   "execution_count": 1,
   "metadata": {},
   "outputs": [
    {
     "name": "stdout",
     "output_type": "stream",
     "text": [
      "['P', 'y', 't', 'h', 'o', 'n', ' ', 'e', 's', ' ', 'e', 'l', ' ', 'm', 'e', 'j', 'o', 'r', ' ', 'l', 'e', 'n', 'g', 'u', 'a', 'j', 'e', ' ', 'd', 'e', ' ', 'p', 'r', 'o', 'g', 'r', 'a', 'm', 'a', 'c', 'i', 'o', 'n']\n"
     ]
    }
   ],
   "source": [
    "letras = []\n",
    "for i in 'Python es el mejor lenguaje de programacion':\n",
    "    letras.append(i)\n",
    "print(letras)"
   ]
  },
  {
   "cell_type": "code",
   "execution_count": 3,
   "metadata": {},
   "outputs": [
    {
     "name": "stdout",
     "output_type": "stream",
     "text": [
      "['P', 'y', 't', 'h', 'o', 'n', ' ', 'e', 's', ' ', 'e', 'l', ' ', 'm', 'e', 'j', 'o', 'r', ' ', 'l', 'e', 'n', 'g', 'u', 'a', 'j', 'e', ' ', 'd', 'e', ' ', 'p', 'r', 'o', 'g', 'r', 'a', 'm', 'a', 'c', 'i', 'o', 'n']\n"
     ]
    }
   ],
   "source": [
    "letras = [i for i in 'Python es el mejor lenguaje de programacion'] # Al colocar la i al inicio estamos agregando un apend a la lista\n",
    "print(letras)"
   ]
  },
  {
   "cell_type": "markdown",
   "metadata": {},
   "source": [
    "### Almacenar los caracteres obiando las enes"
   ]
  },
  {
   "cell_type": "code",
   "execution_count": 4,
   "metadata": {},
   "outputs": [
    {
     "name": "stdout",
     "output_type": "stream",
     "text": [
      "['P', 'y', 't', 'h', 'o', ' ', 'e', 's', ' ', 'e', 'l', ' ', 'm', 'e', 'j', 'o', 'r', ' ', 'l', 'e', 'g', 'u', 'a', 'j', 'e', ' ', 'd', 'e', ' ', 'p', 'r', 'o', 'g', 'r', 'a', 'm', 'a', 'c', 'i', 'o']\n"
     ]
    }
   ],
   "source": [
    "letras = [i for i in 'Python es el mejor lenguaje de programacion' if i != 'n'] # Al colocar la i al inicio estamos agregando un apend a la lista\n",
    "print(letras)"
   ]
  },
  {
   "cell_type": "code",
   "execution_count": 5,
   "metadata": {},
   "outputs": [
    {
     "name": "stdout",
     "output_type": "stream",
     "text": [
      "[[0, 1, 2, 3], [4, 5, 6, 7], [8, 9, 10, 11], [12, 13, 14, 15], [16, 17, 18, 19], [20, 21, 22, 23], [24, 25, 26, 27], [28, 29, 30, 31]]\n"
     ]
    }
   ],
   "source": [
    "row = 8\n",
    "col = 4\n",
    "\n",
    "m = [[i * col + j for j in range(col)] for i in range(row)]\n",
    "print(m)"
   ]
  },
  {
   "cell_type": "code",
   "execution_count": 6,
   "metadata": {},
   "outputs": [
    {
     "name": "stdout",
     "output_type": "stream",
     "text": [
      "los elementos mayores son:  [3, 7, 11, 15, 19, 23, 27, 31]\n"
     ]
    }
   ],
   "source": [
    "def get_maximo(list):\n",
    "    return max(list)\n",
    "\n",
    "elem_maximos = list(map(get_maximo, m))\n",
    "print('los elementos mayores son: ', elem_maximos)"
   ]
  },
  {
   "cell_type": "markdown",
   "metadata": {},
   "source": [
    "# Devolver primos "
   ]
  },
  {
   "cell_type": "code",
   "execution_count": 7,
   "metadata": {},
   "outputs": [
    {
     "name": "stdout",
     "output_type": "stream",
     "text": [
      "[3, 7, 11, 19, 23, 31]\n"
     ]
    }
   ],
   "source": [
    "def es_primo(n):\n",
    "    primo = True\n",
    "    for i in range(2,n):\n",
    "        if n%i == 0:\n",
    "            primo = False\n",
    "    return primo \n",
    "\n",
    "num_primo = list(filter(es_primo, elem_maximos))\n",
    "print(num_primo)\n"
   ]
  },
  {
   "cell_type": "markdown",
   "metadata": {},
   "source": [
    "# Funcion suma"
   ]
  },
  {
   "cell_type": "code",
   "execution_count": 10,
   "metadata": {},
   "outputs": [
    {
     "name": "stdout",
     "output_type": "stream",
     "text": [
      "94\n"
     ]
    }
   ],
   "source": [
    "from functools import reduce\n",
    "def suma(a,b):\n",
    "    return a+b\n",
    "resultado_suma = reduce(suma, num_primo)\n",
    "print(resultado_suma)"
   ]
  },
  {
   "cell_type": "code",
   "execution_count": null,
   "metadata": {},
   "outputs": [],
   "source": []
  }
 ],
 "metadata": {
  "interpreter": {
   "hash": "0d03dc256ba1d67532697a5dd716273f3ee9e93ab3c54c180e93411ed17d8e4f"
  },
  "kernelspec": {
   "display_name": "Python 3.8.12 64-bit ('creaapli': conda)",
   "language": "python",
   "name": "python3"
  },
  "language_info": {
   "codemirror_mode": {
    "name": "ipython",
    "version": 3
   },
   "file_extension": ".py",
   "mimetype": "text/x-python",
   "name": "python",
   "nbconvert_exporter": "python",
   "pygments_lexer": "ipython3",
   "version": "3.8.12"
  },
  "orig_nbformat": 4
 },
 "nbformat": 4,
 "nbformat_minor": 2
}
