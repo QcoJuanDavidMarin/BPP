{
 "cells": [
  {
   "cell_type": "code",
   "execution_count": 1,
   "source": [
    "import pandas as pd   \r\n",
    "import numpy as np \r\n",
    "from rdkit import Chem\r\n",
    "from rdkit.Chem import Descriptors, Draw\r\n",
    "import cirpy # Convertir de cas a SMILES\r\n",
    "from cirpy import Molecule # Para extraer caracteristicas de las moleculas"
   ],
   "outputs": [],
   "metadata": {}
  },
  {
   "cell_type": "code",
   "execution_count": 7,
   "source": [
    "basedatos = pd.read_csv(r'D:\\PROYECTO IMAGENES\\chemoinformatics_workshop-master\\basededatos.csv',sep=',')\r\n",
    "#df.drop(columns='Unnamed: 0', inplace=True)\r\n",
    "basedatos.head(5)"
   ],
   "outputs": [
    {
     "output_type": "execute_result",
     "data": {
      "text/plain": [
       "                                    nombre           CAS  \\\n",
       "0                                 abienol    17990-16-8    \n",
       "1                 abies alba cone extract    90028-76-5    \n",
       "2                   abies alba needle oil     8021-27-0    \n",
       "3                  acacia catechu extract     8001-76-1    \n",
       "4   acacia farnesiana flower/stem extract    89958-31-6    \n",
       "\n",
       "                                     Use smiles  \n",
       "0            flavor and fragrance agents    NaN  \n",
       "1   cosmetic flavor and fragrance agents    NaN  \n",
       "2   cosmetic flavor and fragrance agents    NaN  \n",
       "3             cosmetic and flavor agents    NaN  \n",
       "4   cosmetic flavor and fragrance agents    NaN  "
      ],
      "text/html": [
       "<div>\n",
       "<style scoped>\n",
       "    .dataframe tbody tr th:only-of-type {\n",
       "        vertical-align: middle;\n",
       "    }\n",
       "\n",
       "    .dataframe tbody tr th {\n",
       "        vertical-align: top;\n",
       "    }\n",
       "\n",
       "    .dataframe thead th {\n",
       "        text-align: right;\n",
       "    }\n",
       "</style>\n",
       "<table border=\"1\" class=\"dataframe\">\n",
       "  <thead>\n",
       "    <tr style=\"text-align: right;\">\n",
       "      <th></th>\n",
       "      <th>nombre</th>\n",
       "      <th>CAS</th>\n",
       "      <th>Use</th>\n",
       "      <th>smiles</th>\n",
       "    </tr>\n",
       "  </thead>\n",
       "  <tbody>\n",
       "    <tr>\n",
       "      <th>0</th>\n",
       "      <td>abienol</td>\n",
       "      <td>17990-16-8</td>\n",
       "      <td>flavor and fragrance agents</td>\n",
       "      <td>NaN</td>\n",
       "    </tr>\n",
       "    <tr>\n",
       "      <th>1</th>\n",
       "      <td>abies alba cone extract</td>\n",
       "      <td>90028-76-5</td>\n",
       "      <td>cosmetic flavor and fragrance agents</td>\n",
       "      <td>NaN</td>\n",
       "    </tr>\n",
       "    <tr>\n",
       "      <th>2</th>\n",
       "      <td>abies alba needle oil</td>\n",
       "      <td>8021-27-0</td>\n",
       "      <td>cosmetic flavor and fragrance agents</td>\n",
       "      <td>NaN</td>\n",
       "    </tr>\n",
       "    <tr>\n",
       "      <th>3</th>\n",
       "      <td>acacia catechu extract</td>\n",
       "      <td>8001-76-1</td>\n",
       "      <td>cosmetic and flavor agents</td>\n",
       "      <td>NaN</td>\n",
       "    </tr>\n",
       "    <tr>\n",
       "      <th>4</th>\n",
       "      <td>acacia farnesiana flower/stem extract</td>\n",
       "      <td>89958-31-6</td>\n",
       "      <td>cosmetic flavor and fragrance agents</td>\n",
       "      <td>NaN</td>\n",
       "    </tr>\n",
       "  </tbody>\n",
       "</table>\n",
       "</div>"
      ]
     },
     "metadata": {},
     "execution_count": 7
    }
   ],
   "metadata": {}
  },
  {
   "cell_type": "code",
   "execution_count": 8,
   "source": [
    "df = basedatos.dropna()"
   ],
   "outputs": [],
   "metadata": {}
  },
  {
   "cell_type": "code",
   "execution_count": 11,
   "source": [
    "print('longidur basedatos', len(basedatos))\r\n",
    "print('longidur df', len(df))\r\n",
    "print('Se perdieron', len(basedatos)-len(df), 'datos')"
   ],
   "outputs": [
    {
     "output_type": "stream",
     "name": "stdout",
     "text": [
      "longidur basedatos 5879\n",
      "longidur df 3130\n",
      "Se perdieron 2749 datos\n"
     ]
    }
   ],
   "metadata": {}
  },
  {
   "cell_type": "code",
   "execution_count": null,
   "source": [
    "df2 = df2.drop(['index'], axis=1)\t"
   ],
   "outputs": [],
   "metadata": {}
  },
  {
   "cell_type": "code",
   "execution_count": 29,
   "source": [
    "df2.head(3)"
   ],
   "outputs": [
    {
     "output_type": "execute_result",
     "data": {
      "text/plain": [
       "                   nombre           CAS  \\\n",
       "0   acesulfame potassium    55589-62-3    \n",
       "1                 acetal      105-57-7    \n",
       "2           acetaldehyde       75-07-0    \n",
       "\n",
       "                                               Use  \\\n",
       "0                      sweeteners flavor enhancers   \n",
       "1   flavoring agents and cosmetic fragrance agents   \n",
       "2                       cosmetic and flavor agents   \n",
       "\n",
       "                             smiles  \n",
       "0  [K+].CC1=CC(=O)N=[S]([O-])(=O)O1  \n",
       "1                        CCOC(C)OCC  \n",
       "2                              CC=O  "
      ],
      "text/html": [
       "<div>\n",
       "<style scoped>\n",
       "    .dataframe tbody tr th:only-of-type {\n",
       "        vertical-align: middle;\n",
       "    }\n",
       "\n",
       "    .dataframe tbody tr th {\n",
       "        vertical-align: top;\n",
       "    }\n",
       "\n",
       "    .dataframe thead th {\n",
       "        text-align: right;\n",
       "    }\n",
       "</style>\n",
       "<table border=\"1\" class=\"dataframe\">\n",
       "  <thead>\n",
       "    <tr style=\"text-align: right;\">\n",
       "      <th></th>\n",
       "      <th>nombre</th>\n",
       "      <th>CAS</th>\n",
       "      <th>Use</th>\n",
       "      <th>smiles</th>\n",
       "    </tr>\n",
       "  </thead>\n",
       "  <tbody>\n",
       "    <tr>\n",
       "      <th>0</th>\n",
       "      <td>acesulfame potassium</td>\n",
       "      <td>55589-62-3</td>\n",
       "      <td>sweeteners flavor enhancers</td>\n",
       "      <td>[K+].CC1=CC(=O)N=[S]([O-])(=O)O1</td>\n",
       "    </tr>\n",
       "    <tr>\n",
       "      <th>1</th>\n",
       "      <td>acetal</td>\n",
       "      <td>105-57-7</td>\n",
       "      <td>flavoring agents and cosmetic fragrance agents</td>\n",
       "      <td>CCOC(C)OCC</td>\n",
       "    </tr>\n",
       "    <tr>\n",
       "      <th>2</th>\n",
       "      <td>acetaldehyde</td>\n",
       "      <td>75-07-0</td>\n",
       "      <td>cosmetic and flavor agents</td>\n",
       "      <td>CC=O</td>\n",
       "    </tr>\n",
       "  </tbody>\n",
       "</table>\n",
       "</div>"
      ]
     },
     "metadata": {},
     "execution_count": 29
    }
   ],
   "metadata": {}
  },
  {
   "cell_type": "code",
   "execution_count": 32,
   "source": [
    "df2['mol'] = df2['smiles'].apply(lambda x: Chem.MolFromSmiles(x))\r\n",
    "df2.head()"
   ],
   "outputs": [
    {
     "output_type": "execute_result",
     "data": {
      "text/plain": [
       "                                   nombre           CAS  \\\n",
       "0                   acesulfame potassium    55589-62-3    \n",
       "1                                 acetal      105-57-7    \n",
       "2                           acetaldehyde       75-07-0    \n",
       "3   acetaldehyde isoamyl isobutyl acetal    75048-15-6    \n",
       "4       acetaldehyde benzyl ethyl acetal    66222-24-0    \n",
       "\n",
       "                                               Use  \\\n",
       "0                      sweeteners flavor enhancers   \n",
       "1   flavoring agents and cosmetic fragrance agents   \n",
       "2                       cosmetic and flavor agents   \n",
       "3                      flavor and fragrance agents   \n",
       "4                                 flavoring agents   \n",
       "\n",
       "                             smiles  \\\n",
       "0  [K+].CC1=CC(=O)N=[S]([O-])(=O)O1   \n",
       "1                        CCOC(C)OCC   \n",
       "2                              CC=O   \n",
       "3               CC(C)CCOC(C)OCC(C)C   \n",
       "4                 CCOC(C)OCc1ccccc1   \n",
       "\n",
       "                                                 mol  \n",
       "0  <rdkit.Chem.rdchem.Mol object at 0x000001F7331...  \n",
       "1  <rdkit.Chem.rdchem.Mol object at 0x000001F7331...  \n",
       "2  <rdkit.Chem.rdchem.Mol object at 0x000001F7331...  \n",
       "3  <rdkit.Chem.rdchem.Mol object at 0x000001F7331...  \n",
       "4  <rdkit.Chem.rdchem.Mol object at 0x000001F7331...  "
      ],
      "text/html": [
       "<div>\n",
       "<style scoped>\n",
       "    .dataframe tbody tr th:only-of-type {\n",
       "        vertical-align: middle;\n",
       "    }\n",
       "\n",
       "    .dataframe tbody tr th {\n",
       "        vertical-align: top;\n",
       "    }\n",
       "\n",
       "    .dataframe thead th {\n",
       "        text-align: right;\n",
       "    }\n",
       "</style>\n",
       "<table border=\"1\" class=\"dataframe\">\n",
       "  <thead>\n",
       "    <tr style=\"text-align: right;\">\n",
       "      <th></th>\n",
       "      <th>nombre</th>\n",
       "      <th>CAS</th>\n",
       "      <th>Use</th>\n",
       "      <th>smiles</th>\n",
       "      <th>mol</th>\n",
       "    </tr>\n",
       "  </thead>\n",
       "  <tbody>\n",
       "    <tr>\n",
       "      <th>0</th>\n",
       "      <td>acesulfame potassium</td>\n",
       "      <td>55589-62-3</td>\n",
       "      <td>sweeteners flavor enhancers</td>\n",
       "      <td>[K+].CC1=CC(=O)N=[S]([O-])(=O)O1</td>\n",
       "      <td>&lt;rdkit.Chem.rdchem.Mol object at 0x000001F7331...</td>\n",
       "    </tr>\n",
       "    <tr>\n",
       "      <th>1</th>\n",
       "      <td>acetal</td>\n",
       "      <td>105-57-7</td>\n",
       "      <td>flavoring agents and cosmetic fragrance agents</td>\n",
       "      <td>CCOC(C)OCC</td>\n",
       "      <td>&lt;rdkit.Chem.rdchem.Mol object at 0x000001F7331...</td>\n",
       "    </tr>\n",
       "    <tr>\n",
       "      <th>2</th>\n",
       "      <td>acetaldehyde</td>\n",
       "      <td>75-07-0</td>\n",
       "      <td>cosmetic and flavor agents</td>\n",
       "      <td>CC=O</td>\n",
       "      <td>&lt;rdkit.Chem.rdchem.Mol object at 0x000001F7331...</td>\n",
       "    </tr>\n",
       "    <tr>\n",
       "      <th>3</th>\n",
       "      <td>acetaldehyde isoamyl isobutyl acetal</td>\n",
       "      <td>75048-15-6</td>\n",
       "      <td>flavor and fragrance agents</td>\n",
       "      <td>CC(C)CCOC(C)OCC(C)C</td>\n",
       "      <td>&lt;rdkit.Chem.rdchem.Mol object at 0x000001F7331...</td>\n",
       "    </tr>\n",
       "    <tr>\n",
       "      <th>4</th>\n",
       "      <td>acetaldehyde benzyl ethyl acetal</td>\n",
       "      <td>66222-24-0</td>\n",
       "      <td>flavoring agents</td>\n",
       "      <td>CCOC(C)OCc1ccccc1</td>\n",
       "      <td>&lt;rdkit.Chem.rdchem.Mol object at 0x000001F7331...</td>\n",
       "    </tr>\n",
       "  </tbody>\n",
       "</table>\n",
       "</div>"
      ]
     },
     "metadata": {},
     "execution_count": 32
    }
   ],
   "metadata": {}
  },
  {
   "cell_type": "code",
   "execution_count": 33,
   "source": [
    "# inspeccionar si hay valores null\r\n",
    "df2.isnull().sum()"
   ],
   "outputs": [
    {
     "output_type": "execute_result",
     "data": {
      "text/plain": [
       "nombre    0\n",
       "CAS       0\n",
       " Use      0\n",
       "smiles    0\n",
       "mol       0\n",
       "dtype: int64"
      ]
     },
     "metadata": {},
     "execution_count": 33
    }
   ],
   "metadata": {}
  },
  {
   "cell_type": "code",
   "execution_count": 36,
   "source": [
    "df2['mol'][0]"
   ],
   "outputs": [
    {
     "output_type": "execute_result",
     "data": {
      "text/plain": [
       "<rdkit.Chem.rdchem.Mol at 0x1f7331c2620>"
      ],
      "image/png": "[encoded data removed]"
     },
     "metadata": {},
     "execution_count": 36
    }
   ],
   "metadata": {}
  },
  {
   "cell_type": "code",
   "execution_count": 37,
   "source": [
    "Chem.MolFromSmiles('[Ca++].[Ca++].[Ca++].[Ca++].[Ca++].[Ca++].[O-][P]([O-])(=O)OC1C(O[P]([O-])([O-])=O)C(O[P]([O-])([O-])=O)C(O[P]([O-])([O-])=O)C(O[P]([O-])([O-])=O)C1O[P]([O-])([O-])=O')"
   ],
   "outputs": [
    {
     "output_type": "execute_result",
     "data": {
      "text/plain": [
       "<rdkit.Chem.rdchem.Mol at 0x1f7331b4800>"
      ],
      "image/png": "[encoded data removed]"
     },
     "metadata": {},
     "execution_count": 37
    }
   ],
   "metadata": {}
  },
  {
   "cell_type": "code",
   "execution_count": null,
   "source": [],
   "outputs": [],
   "metadata": {}
  },
  {
   "cell_type": "code",
   "execution_count": null,
   "source": [],
   "outputs": [],
   "metadata": {}
  },
  {
   "cell_type": "code",
   "execution_count": null,
   "source": [],
   "outputs": [],
   "metadata": {}
  },
  {
   "cell_type": "code",
   "execution_count": null,
   "source": [],
   "outputs": [],
   "metadata": {}
  },
  {
   "cell_type": "code",
   "execution_count": null,
   "source": [],
   "outputs": [],
   "metadata": {}
  },
  {
   "cell_type": "code",
   "execution_count": null,
   "source": [],
   "outputs": [],
   "metadata": {}
  },
  {
   "cell_type": "code",
   "execution_count": null,
   "source": [],
   "outputs": [],
   "metadata": {}
  }
 ],
 "metadata": {
  "orig_nbformat": 4,
  "language_info": {
   "name": "python",
   "version": "3.7.9",
   "mimetype": "text/x-python",
   "codemirror_mode": {
    "name": "ipython",
    "version": 3
   },
   "pygments_lexer": "ipython3",
   "nbconvert_exporter": "python",
   "file_extension": ".py"
  },
  "kernelspec": {
   "name": "python3",
   "display_name": "Python 3.7.9 64-bit ('rdkit': conda)"
  },
  "interpreter": {
   "hash": "28f4b28874112b277fa1a8a388c245529846ac92d0127ca22b15e21cf2402139"
  }
 },
 "nbformat": 4,
 "nbformat_minor": 2
}